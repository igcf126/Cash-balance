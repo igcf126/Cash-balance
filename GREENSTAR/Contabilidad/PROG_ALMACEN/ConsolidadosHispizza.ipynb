import pandas as pd
import re
import numpy as np
import os
import sys
from tkinter import *
from pandastable import Table
import warnings
import tkinter as tk
from pandastable import Table
from customtkinter import CTk
from customtkinter import CTkLabel,CTkButton,CTkProgressBar, CTkFrame,  CTkEntry
from CTkMessagebox import CTkMessagebox
from pandastable import Table
from tkinter import messagebox

warnings.filterwarnings("ignore")


def deletetotals(df):
    # Drop the last row
    df = df.iloc[:-1]
    return df
def getDD(df, datecolumn):
    dates = df[datecolumn].unique()
    return dates
def dfbyday(df, column, dates):
    dfs = []
    for i in dates:
        dfa = df[df[column] == i]
        dfs.append(dfa)
    return dfs

def encontrar_fecha(cadena):
    # Define the regular expression pattern to find the date
    pattern = r'\d{4}-\d{2}-\d{2}'

    # Find all matches of the pattern in the string
    matches = re.findall(pattern, cadena)

    # If matches are found, return the first one
    if matches:
        return matches[0]
    else:
        return None


def formatDSA(df, column):
    df[column] = pd.to_datetime(df[column], format='mixed')
    new_format = '%d-%m-%Y'
    df[column] = df[column].dt.strftime(new_format)
    return df
def close_main_window():
    root.destroy()
try:
    # Obtener el directorio donde se encuentra el ejecutable
    script_dir = os.path.dirname(sys.argv[0])

    # List to store the names of the interesting files
    interesting_files = []

    # Obtener una lista de todos los archivos en el directorio del script
    files = os.listdir(script_dir)
    datasales = pd.DataFrame()
    for file in files:
        if file.startswith('KEYS Sales Main Consolidated'):
            datasales = pd.read_excel(os.path.join(script_dir, file), engine='openpyxl')
            df = pd.read_excel(os.path.join(script_dir, file), engine='openpyxl')
            datasales = pd.concat([datasales, df], ignore_index=True)
            break

    sales = datasales[['Store', 'Day / Week / Period ', 'Sales Tax', 'Net Sales']]
    formatDSA(sales, 'Day / Week / Period ')
    sales = deletetotals(sales)

    # Iterar sobre los archivos y guardar solo los que nos interesan
    for file in files:
        if file.startswith('Keys Sales'):
            interesting_files.append(file)

    dfs = []

    # Iterar sobre los archivos interesantes
    for file in interesting_files:
        # Leer el archivo
        df = pd.read_excel(os.path.join(script_dir, file), engine='openpyxl')

        # Extraer la fecha del nombre del archivo
        date = encontrar_fecha(file)

        # Agregar la columna "Day / Week / Period" con la fecha correspondiente
        df['Day / Week / Period '] = date

        # Seleccionar solo las columnas "Store", "Dine-In Order Amt" y "Day / Week / Period"
        df = df[['Store', 'Dine-In Order Amt', 'Day / Week / Period ']]

        # Cambiar el formato de la columna "Day / Week / Period"
        df = formatDSA(df, 'Day / Week / Period ')
        df = deletetotals(df)
        dfs.append(df)
    merged_df = pd.concat(dfs, ignore_index=True)

    # Combinar con el DataFrame 'sales' en las columnas 'Store' y 'Day / Week / Period'
    sales = pd.merge(sales, merged_df, on=['Store', 'Day / Week / Period '], how='inner')
    sales = sales.rename(columns={'Dine-In Order Amt': 'Propina'})
    sales['Propina'] = sales['Propina'] * 0.10
    sales['Exento'] = np.zeros(len(sales))
    sales['Itbis'] = sales['Net Sales'] * 0.18 - sales['Exento']
    sales['Diferencia'] = sales['Sales Tax'] - sales['Propina'] - sales['Itbis']
    sales = sales.drop_duplicates()
    # sales['Exento'] = np.where(sales['Diferencia'] > 18, sales['Diferencia'], 0)
    # import tkinter as tk
    from tkinter import ttk

    from pandastable import Table, TableModel


    class MyTable(Table):

        def handleCellEntry(self, row, col):
            super().handleCellEntry(row, col)

            print('changed:', row, col, "(TODO: update database)")

            # pd.read_sql_query("UPDATE ...", conn)
            # or remeber `row` on list and `UPDATE` it later

            return


    from tkinter import messagebox

    men = tk.Tk()


    # Función para cerrar la ventana principal cuando se hace clic en Aceptar en el messagebox
    def close_window():
        men.destroy()


    # Mostrar el messagebox
    messagebox.showinfo("Verificar exentos",
                        "Organice los datos en la columna diferencia e identifique los exentos, pulse doble click para editar y presione Enter, se actualizara automaticamente!")

    # Cerrar la ventana principal cuando se hace clic en Aceptar en el messagebox
    men.after(50, close_window)

    # Ejecutar el bucle principal de Tk
    men.mainloop()
    root = tk.Tk()
    # root.geometry("1250x650+0+0")
    root.title("Rectificacion de exentos")
    # root.configure(background="black")

    f = tk.Frame(root)
    f.pack(fill="both", expand=True)

    pt = MyTable(f, dataframe=sales, showtoolbar=True, showstatusbar=True, editable=True)  # <-- MyTable
    pt.show()

    root.mainloop()

    # Actualizar 'Itbis' con la fórmula dada
    sales['Itbis'] = sales['Net Sales'] * 0.18 - sales['Exento']

    # Actualizar 'Diferencia' con la fórmula dada
    sales['Diferencia'] = sales['Sales Tax'] - sales['Propina'] - sales['Itbis']

    #################DEPOSITOS##################
    # Initialize an empty DataFrame to store the data
    deposits = pd.DataFrame()

    for archivo in files:
        if archivo.startswith('TIGER Other Reports'):
            datareports = pd.read_excel(os.path.join(script_dir, archivo))
            # Assuming 'formatDSA' and 'deletetotals' functions are defined elsewhere
            deposits_temp = datareports[['Store', 'System Date', 'Amount', 'Account Description']]
            deposits_temp = formatDSA(deposits_temp, 'System Date')
            deposits_temp = deletetotals(deposits_temp)
            deposits = pd.concat([deposits, deposits_temp], ignore_index=True)

    data = {
        'Account Description': [
            'Deposito BHD', 'Deposito BPD', 'Depósitos  BPD', 'Depósitos BHD', 'Depositos BPD',
            'Depósitos BPD', 'T. Cred Discovery', 'T. Créd. Discovery', 'T. Credito Amex',
            'T. Crédito AMEX', 'T. Credito Visa / MC', 'T. Credito Visa MC', 'T. Crédito Visa MC',
            'T. Credito Visa/MC', 'T. Crédito VisaMC', 'T.Credito AMEX', 'T.Credito Visa-MC',
            'Visa Mcard REFUND', 'Cash Adj Mgr', 'CyberS', 'PayPal', 'Ventas Cred. Corp.',
            'Descuento por Nómina', 'Almuerzo Empleados', 'Cert. de Regalo', 'Otros Gastos',
            'Prod/Srv Guar.', 'Transacciones Comida', 'Agua', 'AMEX Card Sales', 'T. AMEX',
            'T. Cred. Discovery', 'Discover Card Sales', 'Descuento Por Nomina', 'Intercambios Mercad',
            'Trans. de Comida', 'Donaciones', 'Prod/Srv Garantia', 'Cert. de Ragalo', 'Ventas a Cred. Corp.',
            'T. Credito Discovery', 'Garantía Serv/Produc', 'Depósitos Progreso', 'PedidosYa',
            'Intercambios', 'T. Crédito Discovery', 'Mantenimiento V.', 'Purch Ord/Trade Recv',
            'Visa MCard Sales', 'Otros Gaastos'
        ],
        'Cuenta': [
            '1-1-12-01-01-00', '1-1-12-01-01-00', '1-1-12-01-01-00', '1-1-12-01-01-00', '1-1-12-01-01-00',
            '1-1-12-01-01-00', '1-1-12-01-03-01', '1-1-12-01-03-01', '1-1-12-01-03-01', '1-1-12-01-03-01',
            '1-1-12-01-03-01', '1-1-12-01-03-01', '1-1-12-01-03-01', '1-1-12-01-03-01', '1-1-12-01-03-01',
            '1-1-12-01-03-01', '1-1-12-01-03-01', '1-1-12-01-03-01', '1-1-12-01-03-01', '1-1-12-01-03-02',
            '1-1-12-01-03-03', '1-1-13-01-01-00', '1-1-13-03-01-01', '2-1-23-01-04-00', '2-1-23-01-04-00',
            '2-1-23-01-04-00', '2-1-23-01-04-00', '2-1-23-01-04-00', '2-1-23-01-04-00', '1-1-12-01-03-01',
            '1-1-12-01-03-01', '1-1-12-01-03-01', '1-1-12-01-03-01', '1-1-12-01-03-01', '1-1-12-01-03-01',
            '1-1-13-03-01-01', '2-1-23-01-04-00', '2-1-23-01-04-00', '2-1-23-01-04-00', '2-1-23-01-04-00',
            '2-1-23-01-04-00', '1-1-13-01-01-00', '1-1-12-01-03-01', '1-1-13-01-01-00', '2-1-23-01-04-00',
            '1-1-12-01-03-01', '2-1-23-01-04-00', '2-1-23-01-04-00', '1-1-12-01-03-01', '2-1-23-01-04-00'
        ]
    }

    cuentas = pd.DataFrame(data)

    # Crea un diccionario para mapear las cuentas con las descripciones de cuenta
    deposits['Cuenta'] = deposits['Account Description'].map(cuentas.set_index('Account Description')['Cuenta'])
    deposits.dropna(subset=['Cuenta'], inplace=True)
    deposits = deposits.rename(columns={
        'Account Description': 'Descripción de Cuenta',
        'Amount': 'Monto',
        'System Date': 'Fecha Sistema',
        'Store': 'Tienda'
    })
    deposits['Tienda'] = deposits['Tienda'].astype(str)
    deposits['Centro de costo'] = deposits['Descripción de Cuenta'] + ' ' + deposits['Tienda']

    def formatoguion(column_values):
        formatted_values = []
        for value in column_values:
            if len(value) == 5:
                formatted_values.append(f"{value[:2]}-{value[2:]}-00")
            elif len(value) == 6:
                formatted_values.append(f"{value[:2]}-{value[2:4]}-{value[4:]}")
            else:
                # Handle other cases if needed
                formatted_values.append(value)
        return formatted_values


    # Example usage:

    # Data for the DataFrame
    data = {
        'Paquete': [],
        'Asiento': [],
        'Fecha': [],
        'TIPO DE ASIENTO': [],
        'TIPO DE CONTABILIDAD': [],
        'Clase de Asiento': [],
        'FUENTE': [],
        'REFERENCIA': [],
        'CONSTRIBUYENTE': [],
        'NO. DE TIENDAS': [],
        'CENTRO DE COSTO': [],
        'CUENTA CONTABLE': [],
        'DEBITO LOCAL': [],
        'CREDITO LOCAL': [],
        'DEBITO DOLAR': [],
        'CREDITO DOLAR': [],
        'MONTO EN UNIDADES': [],
        'CONSOLIDADORA': [],
        'CONSOLIDADA': []
    }
    ###############CARGADOR####################
    # Create DataFrame
    df = pd.DataFrame(data)

    # Display the DataFrame
    dfventas = df.copy()
    dfventas['NO. DE TIENDAS'] = sales['Store']
    dfventas['Fecha'] = sales['Day / Week / Period ']
    dfventas['CENTRO DE COSTO'] = formatoguion(dfventas['NO. DE TIENDAS'].astype(str))
    dfventas['REFERENCIA'] = 'VENTAS' + ' ' + dfventas['NO. DE TIENDAS'].astype(str)
    dfventas['CUENTA CONTABLE'] = '4-1-01-01-00-00'
    dfventas['CREDITO LOCAL'] = sales['Net Sales']
    dfit = df.copy()
    dfit['NO. DE TIENDAS'] = sales['Store']
    dfit['Fecha'] = sales['Day / Week / Period ']
    dfit['CENTRO DE COSTO'] = '00-000-00'
    dfit['REFERENCIA'] = 'ITBIS' + ' ' + dfit['NO. DE TIENDAS'].astype(str)
    dfit['CUENTA CONTABLE'] = '2-1-27-02-01-00'
    dfit['CREDITO LOCAL'] = sales['Itbis']
    dftip = df.copy()
    dftip['NO. DE TIENDAS'] = sales['Store']
    dftip['Fecha'] = sales['Day / Week / Period ']
    dftip['CENTRO DE COSTO'] = '00-000-00'
    dftip['REFERENCIA'] = 'PROPINA' + ' ' + dftip['NO. DE TIENDAS'].astype(str)
    dftip['CUENTA CONTABLE'] = '2-1-27-03-24-00'
    dftip['CREDITO LOCAL'] = sales['Propina']
    dfdif = df.copy()
    dfdif['NO. DE TIENDAS'] = sales['Store']
    dfdif['Fecha'] = sales['Day / Week / Period ']
    dfdif['CENTRO DE COSTO'] = '00-000-00'
    dfdif['REFERENCIA'] = 'DIF EN ITBIS' + ' ' + dfdif['NO. DE TIENDAS'].astype(str)
    dfdif['CUENTA CONTABLE'] = '6-2-25-03-00-00'
    dfdif['CREDITO LOCAL'] = sales['Diferencia']
    dfdep = df.copy()
    dfdep['NO. DE TIENDAS'] = deposits['Tienda']
    dfdep['Fecha'] = deposits['Fecha Sistema']
    dfdep['CENTRO DE COSTO'] = '00-000-00'
    dfdep['REFERENCIA'] = deposits['Centro de costo']
    dfdep['CUENTA CONTABLE'] = deposits['Cuenta']
    dfdep['DEBITO LOCAL'] = deposits['Monto']
    df = pd.concat([df, dfventas, dfit, dftip, dfdif, dfdep])
    df['FUENTE'] = 'ANEXA'
    df['Paquete'] = 'CG'
    df['TIPO DE ASIENTO'] = 'FA'
    df['TIPO DE CONTABILIDAD'] = 'F'
    df['Clase de Asiento'] = 'N'
    df = df.fillna(0)


    class App(CTk):
        def __init__(self):
            super().__init__()

            self.title("Seleccionar Archivo")
            self.label = CTkLabel(self, text="Elige el archivo que quieres ver")
            self.label.pack(pady=10)

            self.ventas_button = CTkButton(self, text="Ventas", command=lambda: self.mostrar_dataframe(sales, "Ventas"))
            self.ventas_button.pack(pady=5)

            self.depositos_button = CTkButton(self, text="Depósitos",
                                              command=lambda: self.mostrar_dataframe(deposits, "Depósitos"))
            self.depositos_button.pack(pady=5)

            self.cargador_button = CTkButton(self, text="Cargador",
                                             command=lambda: self.mostrar_dataframe(df, "Cargador"))
            self.cargador_button.pack(pady=5)

            self.descargar_button = CTkButton(self, text="Descargar Cargador completo",
                                              command=self.descargar_cargador_completo)
            self.descargar_button.pack(pady=10)

            self.descargar_but = CTkButton(self, text="Descargar Ventas",
                                              command=self.descargar_ventas)
            self.descargar_but.pack(pady=10)

            self.descargar_dep = CTkButton(self, text="Descargar Depositos",
                                           command=self.descargar_depositos)
            self.descargar_dep.pack(pady=10)

            self.descargar_cbyday = CTkButton(self, text="Descargar cargadores por dia",
                                              command=self.descargar_cargador_por_dia)
            self.descargar_cbyday.pack(pady=10)

        def ver_ventas(self):
            self.mostrar_dataframe(sales, "Ventas")

        def ver_depositos(self):
            self.mostrar_dataframe(deposits, "Depósitos")

        def ver_cargador(self):
            self.mostrar_dataframe(df, "Cargador")

        def mostrar_dataframe(self, dataframe, title):
            top = tk.Toplevel(self)
            top.title(title)
            frame = tk.Frame(top)
            frame.pack(fill=tk.BOTH, expand=1)
            pt = Table(frame, dataframe=dataframe, showtoolbar=True, showstatusbar=True)
            pt.show()

        def descargar_cargador_completo(self):
            with pd.ExcelWriter('Consolidado_ventas_Hispizza.xlsx') as writer:
                # Guardar cada DataFrame en una hoja separada
                # Reemplaza las variables con tus dataframes reales
                sales.to_excel(writer, sheet_name='Ventas', index=False)
                deposits.to_excel(writer, sheet_name='Depósitos', index=False)
                df.to_excel(writer, sheet_name='Cargador', index=False)
            CTkMessagebox(title="Success", message="Se ha descargado el archivo en el directorio!", icon="check")

        def descargar_ventas(self):
            with pd.ExcelWriter('Ventas_Hispizza.xlsx') as writer:
                # Guardar cada DataFrame en una hoja separada
                # Reemplaza las variables con tus dataframes reales
                sales.to_excel(writer, sheet_name='Ventas', index=False)
            CTkMessagebox(title="Success", message="Se ha descargado el archivo en el directorio!", icon="check")
        def descargar_depositos(self):
            with pd.ExcelWriter('Depositos_Hispizza.xlsx') as writer:
                # Guardar cada DataFrame en una hoja separada
                # Reemplaza las variables con tus dataframes reales
                deposits.to_excel(writer, sheet_name='Depositos', index=False)
            #CTkMessagebox(title="Success", message="Se ha descargado el archivo en el directorio!", icon="check")
        def descargar_cargador_por_dia(self):
            listaDIAS = getDD(df, 'Fecha')
            dfs = dfbyday(df, 'Fecha', listaDIAS)
            for i in range(len(dfs)):
                with pd.ExcelWriter(f'Cargador {listaDIAS[i]}.xlsx') as writer:
                    dfs[i].to_excel(writer, index=False)
            CTkMessagebox(title="Success", message="Se ha descargado el archivo en el directorio!", icon="check")


    app = App()
    app.mainloop()
except Exception as e:
    # Crear una ventana principal para el Messagebox
    # Mostrar un mensaje de error basado en la excepción

    messagebox.showerror("ERROR", "No se encontraron algunos archivos.")